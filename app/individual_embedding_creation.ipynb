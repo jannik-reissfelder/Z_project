{
 "cells": [
  {
   "cell_type": "markdown",
   "id": "3a5924fe-1004-4a7a-bf06-a79c02206eea",
   "metadata": {},
   "source": [
    "## Getting all entries from DB"
   ]
  },
  {
   "cell_type": "code",
   "execution_count": 27,
   "id": "c6be4bf4-f9b9-44be-99bc-7fd2f3116305",
   "metadata": {},
   "outputs": [],
   "source": [
    "import sqlite3\n",
    "import pandas as pd\n",
    "\n",
    "# Connect to the SQLite database\n",
    "conn = sqlite3.connect('synthesis.db')\n",
    "\n",
    "# SQL query to fetch all rows from the syntree table\n",
    "query = \"\"\"\n",
    "SELECT * FROM syntree;\n",
    "\"\"\"\n",
    "\n",
    "# Execute the query and load results into a Pandas DataFrame\n",
    "df = pd.read_sql_query(query, conn)\n",
    "\n",
    "# Close the connection\n",
    "conn.close()\n",
    "\n"
   ]
  },
  {
   "cell_type": "code",
   "execution_count": 28,
   "id": "81b8bf99-0eaf-42f2-85c2-8822c852526f",
   "metadata": {},
   "outputs": [
    {
     "data": {
      "text/plain": [
       "(185366, 10)"
      ]
     },
     "execution_count": 28,
     "metadata": {},
     "output_type": "execute_result"
    }
   ],
   "source": [
    "df.shape"
   ]
  },
  {
   "cell_type": "code",
   "execution_count": 30,
   "id": "2e1aa8c9-9e55-469d-ac85-2fdcffbd7b6f",
   "metadata": {},
   "outputs": [
    {
     "data": {
      "text/plain": [
       "0"
      ]
     },
     "execution_count": 30,
     "metadata": {},
     "output_type": "execute_result"
    }
   ],
   "source": [
    "(df.path.str.lower() != df.search_path.str.lower()).sum()\n"
   ]
  },
  {
   "cell_type": "code",
   "execution_count": 8,
   "id": "eefde26f-d389-4268-99d4-ae4819ec1b26",
   "metadata": {},
   "outputs": [],
   "source": [
    "# Learning 1. path and search path are identifcal!!"
   ]
  },
  {
   "cell_type": "code",
   "execution_count": 31,
   "id": "ef5c842f-89fe-432c-9ab1-94d5fcf7dcb5",
   "metadata": {},
   "outputs": [],
   "source": [
    "# Split 'path' column on the first ' - ' occurrence, assigning first part to 'category' and the rest to 'Relevantes Symptom'\n",
    "df[['category', 'Relevantes Symptom']] = df['path'].str.split(' - ', n=1, expand=True)"
   ]
  },
  {
   "cell_type": "code",
   "execution_count": 94,
   "id": "d6e64781-49f9-4346-9330-800792382cd1",
   "metadata": {},
   "outputs": [
    {
     "data": {
      "text/plain": [
       "category\n",
       "Extremitäten                 28136\n",
       "Gemüt                        19240\n",
       "Kopf                         13864\n",
       "Allgemeines                  12707\n",
       "Abdomen                       9428\n",
       "Brust                         9061\n",
       "Rücken                        8478\n",
       "Magen                         7619\n",
       "Gesicht                       5345\n",
       "Mund                          4846\n",
       "Auge                          4798\n",
       "Weibliche Genitalien          4505\n",
       "Träume                        4155\n",
       "Ohr                           3664\n",
       "Nase                          3501\n",
       "Rektum                        3453\n",
       "Haut                          3207\n",
       "Schlaf                        2893\n",
       "Innerer Hals                  2787\n",
       "Husten                        2604\n",
       "Männliche Genitalien          2593\n",
       "Atmung                        2413\n",
       "Zähne                         2340\n",
       "Sehen                         1794\n",
       "Blase                         1663\n",
       "Kehlkopf und Trachea          1491\n",
       "Fieber                        1393\n",
       "Frost                         1278\n",
       "Schwindel                     1112\n",
       "Harnröhre                     1065\n",
       "Schweiß                        764\n",
       "Urin                           725\n",
       "Stuhl                          699\n",
       "Äußerer Hals                   686\n",
       "Nieren                         672\n",
       "Auswurf                        508\n",
       "Hören                          383\n",
       "Äußerer Hals und Nacken        231\n",
       "Genitalien und Sexualität      182\n",
       "Prostata                       180\n",
       "Harnorgane                      67\n",
       "Name: count, dtype: int64"
      ]
     },
     "execution_count": 94,
     "metadata": {},
     "output_type": "execute_result"
    }
   ],
   "source": [
    "df.category.value_counts()"
   ]
  },
  {
   "cell_type": "code",
   "execution_count": 38,
   "id": "5e6df8df-f1d6-4930-b774-d230e3dfe5c3",
   "metadata": {},
   "outputs": [
    {
     "data": {
      "text/plain": [
       "(185366, 12)"
      ]
     },
     "execution_count": 38,
     "metadata": {},
     "output_type": "execute_result"
    }
   ],
   "source": [
    "# Remove Veterinät for now:\n",
    "df.shape"
   ]
  },
  {
   "cell_type": "code",
   "execution_count": 41,
   "id": "ca485826-6370-40d7-b30e-1f137b14c845",
   "metadata": {},
   "outputs": [],
   "source": [
    "df = df[df.category != \"Veterinär\"]"
   ]
  },
  {
   "cell_type": "markdown",
   "id": "99af276f-548f-44a8-9118-9760ecbfb745",
   "metadata": {},
   "source": [
    "- we leave out \"Veterinär\" for now"
   ]
  },
  {
   "cell_type": "code",
   "execution_count": 44,
   "id": "cc629da5-4547-4f10-9e88-75dd3fd1758b",
   "metadata": {},
   "outputs": [
    {
     "data": {
      "text/plain": [
       "41"
      ]
     },
     "execution_count": 44,
     "metadata": {},
     "output_type": "execute_result"
    }
   ],
   "source": [
    "df.category.nunique()"
   ]
  },
  {
   "cell_type": "code",
   "execution_count": 46,
   "id": "a1615bf2-c7e6-41b1-a15c-57e553ac2174",
   "metadata": {},
   "outputs": [
    {
     "data": {
      "text/plain": [
       "41"
      ]
     },
     "execution_count": 46,
     "metadata": {},
     "output_type": "execute_result"
    }
   ],
   "source": [
    "df[\"Relevantes Symptom\"].isnull().sum() # weil jede kategorie erstmal auf nichts folgt mit \" - \""
   ]
  },
  {
   "cell_type": "code",
   "execution_count": 61,
   "id": "f84b1b09-1596-412a-a16b-ca52b28d0f87",
   "metadata": {},
   "outputs": [
    {
     "data": {
      "text/plain": [
       "176489"
      ]
     },
     "execution_count": 61,
     "metadata": {},
     "output_type": "execute_result"
    }
   ],
   "source": [
    "df.shape[0] - 41"
   ]
  },
  {
   "cell_type": "code",
   "execution_count": 62,
   "id": "4af44d9a-dea3-48c5-aa6d-fbde0572a978",
   "metadata": {},
   "outputs": [],
   "source": [
    "df_no_null = df[~df[\"Relevantes Symptom\"].isnull()]"
   ]
  },
  {
   "cell_type": "code",
   "execution_count": 63,
   "id": "af7ecef3-95a7-4af6-b0ce-541ada9eac41",
   "metadata": {
    "scrolled": true
   },
   "outputs": [
    {
     "data": {
      "text/html": [
       "<div>\n",
       "<style scoped>\n",
       "    .dataframe tbody tr th:only-of-type {\n",
       "        vertical-align: middle;\n",
       "    }\n",
       "\n",
       "    .dataframe tbody tr th {\n",
       "        vertical-align: top;\n",
       "    }\n",
       "\n",
       "    .dataframe thead th {\n",
       "        text-align: right;\n",
       "    }\n",
       "</style>\n",
       "<table border=\"1\" class=\"dataframe\">\n",
       "  <thead>\n",
       "    <tr style=\"text-align: right;\">\n",
       "      <th></th>\n",
       "      <th>id</th>\n",
       "      <th>id_father</th>\n",
       "      <th>item</th>\n",
       "      <th>image</th>\n",
       "      <th>ref_id</th>\n",
       "      <th>level</th>\n",
       "      <th>chapter_id</th>\n",
       "      <th>order_index</th>\n",
       "      <th>path</th>\n",
       "      <th>search_path</th>\n",
       "      <th>category</th>\n",
       "      <th>Relevantes Symptom</th>\n",
       "    </tr>\n",
       "  </thead>\n",
       "  <tbody>\n",
       "    <tr>\n",
       "      <th>1</th>\n",
       "      <td>9183339</td>\n",
       "      <td>9183338.0</td>\n",
       "      <td>Tagsüber</td>\n",
       "      <td>None</td>\n",
       "      <td>4.0</td>\n",
       "      <td>2</td>\n",
       "      <td>9183338.0</td>\n",
       "      <td>1</td>\n",
       "      <td>Gemüt - Tagsüber</td>\n",
       "      <td>GEMÜT - TAGSÜBER</td>\n",
       "      <td>Gemüt</td>\n",
       "      <td>Tagsüber</td>\n",
       "    </tr>\n",
       "    <tr>\n",
       "      <th>2</th>\n",
       "      <td>9183340</td>\n",
       "      <td>9183338.0</td>\n",
       "      <td>Morgens</td>\n",
       "      <td>None</td>\n",
       "      <td>5.0</td>\n",
       "      <td>2</td>\n",
       "      <td>9183338.0</td>\n",
       "      <td>2</td>\n",
       "      <td>Gemüt - Morgens</td>\n",
       "      <td>GEMÜT - MORGENS</td>\n",
       "      <td>Gemüt</td>\n",
       "      <td>Morgens</td>\n",
       "    </tr>\n",
       "    <tr>\n",
       "      <th>3</th>\n",
       "      <td>9183341</td>\n",
       "      <td>9183340.0</td>\n",
       "      <td>abends; und</td>\n",
       "      <td>None</td>\n",
       "      <td>6.0</td>\n",
       "      <td>3</td>\n",
       "      <td>9183338.0</td>\n",
       "      <td>3</td>\n",
       "      <td>Gemüt - Morgens - abends; und</td>\n",
       "      <td>GEMÜT - MORGENS - ABENDS; UND</td>\n",
       "      <td>Gemüt</td>\n",
       "      <td>Morgens - abends; und</td>\n",
       "    </tr>\n",
       "    <tr>\n",
       "      <th>4</th>\n",
       "      <td>9183342</td>\n",
       "      <td>9183338.0</td>\n",
       "      <td>Vormittags</td>\n",
       "      <td>None</td>\n",
       "      <td>7.0</td>\n",
       "      <td>2</td>\n",
       "      <td>9183338.0</td>\n",
       "      <td>4</td>\n",
       "      <td>Gemüt - Vormittags</td>\n",
       "      <td>GEMÜT - VORMITTAGS</td>\n",
       "      <td>Gemüt</td>\n",
       "      <td>Vormittags</td>\n",
       "    </tr>\n",
       "    <tr>\n",
       "      <th>5</th>\n",
       "      <td>9183343</td>\n",
       "      <td>9183338.0</td>\n",
       "      <td>Mittags</td>\n",
       "      <td>None</td>\n",
       "      <td>8.0</td>\n",
       "      <td>2</td>\n",
       "      <td>9183338.0</td>\n",
       "      <td>5</td>\n",
       "      <td>Gemüt - Mittags</td>\n",
       "      <td>GEMÜT - MITTAGS</td>\n",
       "      <td>Gemüt</td>\n",
       "      <td>Mittags</td>\n",
       "    </tr>\n",
       "    <tr>\n",
       "      <th>...</th>\n",
       "      <td>...</td>\n",
       "      <td>...</td>\n",
       "      <td>...</td>\n",
       "      <td>...</td>\n",
       "      <td>...</td>\n",
       "      <td>...</td>\n",
       "      <td>...</td>\n",
       "      <td>...</td>\n",
       "      <td>...</td>\n",
       "      <td>...</td>\n",
       "      <td>...</td>\n",
       "      <td>...</td>\n",
       "    </tr>\n",
       "    <tr>\n",
       "      <th>176525</th>\n",
       "      <td>9359863</td>\n",
       "      <td>9359858.0</td>\n",
       "      <td>Fieber; während</td>\n",
       "      <td>None</td>\n",
       "      <td>170414.0</td>\n",
       "      <td>3</td>\n",
       "      <td>9347161.0</td>\n",
       "      <td>176525</td>\n",
       "      <td>Allgemeines - Zyanose - Fieber; während</td>\n",
       "      <td>ALLGEMEINES - ZYANOSE - FIEBER; WÄHREND</td>\n",
       "      <td>Allgemeines</td>\n",
       "      <td>Zyanose - Fieber; während</td>\n",
       "    </tr>\n",
       "    <tr>\n",
       "      <th>176526</th>\n",
       "      <td>9359864</td>\n",
       "      <td>9359858.0</td>\n",
       "      <td>Kindern; bei</td>\n",
       "      <td>None</td>\n",
       "      <td>170411.0</td>\n",
       "      <td>3</td>\n",
       "      <td>9347161.0</td>\n",
       "      <td>176526</td>\n",
       "      <td>Allgemeines - Zyanose - Kindern; bei</td>\n",
       "      <td>ALLGEMEINES - ZYANOSE - KINDERN; BEI</td>\n",
       "      <td>Allgemeines</td>\n",
       "      <td>Zyanose - Kindern; bei</td>\n",
       "    </tr>\n",
       "    <tr>\n",
       "      <th>176527</th>\n",
       "      <td>9359865</td>\n",
       "      <td>9359864.0</td>\n",
       "      <td>Geburt an; von der</td>\n",
       "      <td>None</td>\n",
       "      <td>170412.0</td>\n",
       "      <td>4</td>\n",
       "      <td>9347161.0</td>\n",
       "      <td>176527</td>\n",
       "      <td>Allgemeines - Zyanose - Kindern; bei - Geburt ...</td>\n",
       "      <td>ALLGEMEINES - ZYANOSE - KINDERN; BEI - GEBURT ...</td>\n",
       "      <td>Allgemeines</td>\n",
       "      <td>Zyanose - Kindern; bei - Geburt an; von der</td>\n",
       "    </tr>\n",
       "    <tr>\n",
       "      <th>176528</th>\n",
       "      <td>9359866</td>\n",
       "      <td>9359864.0</td>\n",
       "      <td>Kleinkindern; bei</td>\n",
       "      <td>None</td>\n",
       "      <td>170413.0</td>\n",
       "      <td>4</td>\n",
       "      <td>9347161.0</td>\n",
       "      <td>176528</td>\n",
       "      <td>Allgemeines - Zyanose - Kindern; bei - Kleinki...</td>\n",
       "      <td>ALLGEMEINES - ZYANOSE - KINDERN; BEI - KLEINKI...</td>\n",
       "      <td>Allgemeines</td>\n",
       "      <td>Zyanose - Kindern; bei - Kleinkindern; bei</td>\n",
       "    </tr>\n",
       "    <tr>\n",
       "      <th>176529</th>\n",
       "      <td>9359867</td>\n",
       "      <td>9347161.0</td>\n",
       "      <td>Zysten</td>\n",
       "      <td>None</td>\n",
       "      <td>170415.0</td>\n",
       "      <td>2</td>\n",
       "      <td>9347161.0</td>\n",
       "      <td>176529</td>\n",
       "      <td>Allgemeines - Zysten</td>\n",
       "      <td>ALLGEMEINES - ZYSTEN</td>\n",
       "      <td>Allgemeines</td>\n",
       "      <td>Zysten</td>\n",
       "    </tr>\n",
       "  </tbody>\n",
       "</table>\n",
       "<p>176489 rows × 12 columns</p>\n",
       "</div>"
      ],
      "text/plain": [
       "             id  id_father                item image    ref_id  level  \\\n",
       "1       9183339  9183338.0            Tagsüber  None       4.0      2   \n",
       "2       9183340  9183338.0             Morgens  None       5.0      2   \n",
       "3       9183341  9183340.0         abends; und  None       6.0      3   \n",
       "4       9183342  9183338.0          Vormittags  None       7.0      2   \n",
       "5       9183343  9183338.0             Mittags  None       8.0      2   \n",
       "...         ...        ...                 ...   ...       ...    ...   \n",
       "176525  9359863  9359858.0     Fieber; während  None  170414.0      3   \n",
       "176526  9359864  9359858.0        Kindern; bei  None  170411.0      3   \n",
       "176527  9359865  9359864.0  Geburt an; von der  None  170412.0      4   \n",
       "176528  9359866  9359864.0   Kleinkindern; bei  None  170413.0      4   \n",
       "176529  9359867  9347161.0              Zysten  None  170415.0      2   \n",
       "\n",
       "        chapter_id  order_index  \\\n",
       "1        9183338.0            1   \n",
       "2        9183338.0            2   \n",
       "3        9183338.0            3   \n",
       "4        9183338.0            4   \n",
       "5        9183338.0            5   \n",
       "...            ...          ...   \n",
       "176525   9347161.0       176525   \n",
       "176526   9347161.0       176526   \n",
       "176527   9347161.0       176527   \n",
       "176528   9347161.0       176528   \n",
       "176529   9347161.0       176529   \n",
       "\n",
       "                                                     path  \\\n",
       "1                                        Gemüt - Tagsüber   \n",
       "2                                         Gemüt - Morgens   \n",
       "3                           Gemüt - Morgens - abends; und   \n",
       "4                                      Gemüt - Vormittags   \n",
       "5                                         Gemüt - Mittags   \n",
       "...                                                   ...   \n",
       "176525            Allgemeines - Zyanose - Fieber; während   \n",
       "176526               Allgemeines - Zyanose - Kindern; bei   \n",
       "176527  Allgemeines - Zyanose - Kindern; bei - Geburt ...   \n",
       "176528  Allgemeines - Zyanose - Kindern; bei - Kleinki...   \n",
       "176529                               Allgemeines - Zysten   \n",
       "\n",
       "                                              search_path     category  \\\n",
       "1                                        GEMÜT - TAGSÜBER        Gemüt   \n",
       "2                                         GEMÜT - MORGENS        Gemüt   \n",
       "3                           GEMÜT - MORGENS - ABENDS; UND        Gemüt   \n",
       "4                                      GEMÜT - VORMITTAGS        Gemüt   \n",
       "5                                         GEMÜT - MITTAGS        Gemüt   \n",
       "...                                                   ...          ...   \n",
       "176525            ALLGEMEINES - ZYANOSE - FIEBER; WÄHREND  Allgemeines   \n",
       "176526               ALLGEMEINES - ZYANOSE - KINDERN; BEI  Allgemeines   \n",
       "176527  ALLGEMEINES - ZYANOSE - KINDERN; BEI - GEBURT ...  Allgemeines   \n",
       "176528  ALLGEMEINES - ZYANOSE - KINDERN; BEI - KLEINKI...  Allgemeines   \n",
       "176529                               ALLGEMEINES - ZYSTEN  Allgemeines   \n",
       "\n",
       "                                 Relevantes Symptom  \n",
       "1                                          Tagsüber  \n",
       "2                                           Morgens  \n",
       "3                             Morgens - abends; und  \n",
       "4                                        Vormittags  \n",
       "5                                           Mittags  \n",
       "...                                             ...  \n",
       "176525                    Zyanose - Fieber; während  \n",
       "176526                       Zyanose - Kindern; bei  \n",
       "176527  Zyanose - Kindern; bei - Geburt an; von der  \n",
       "176528   Zyanose - Kindern; bei - Kleinkindern; bei  \n",
       "176529                                       Zysten  \n",
       "\n",
       "[176489 rows x 12 columns]"
      ]
     },
     "execution_count": 63,
     "metadata": {},
     "output_type": "execute_result"
    }
   ],
   "source": [
    "df_no_null"
   ]
  },
  {
   "cell_type": "markdown",
   "id": "05d35f28-fe47-4d81-bcba-f4f71374cc25",
   "metadata": {},
   "source": [
    "- Decision: I decide to only emebdd \"relevanted Symptom\", but could well be that category + relevantes symptom\" makes sense.\n",
    "- we go for \"relevantes Symptom\" first"
   ]
  },
  {
   "cell_type": "markdown",
   "id": "5a4ea8f1-0118-4352-b5f7-e4b1201cab2e",
   "metadata": {},
   "source": [
    "# Start EMebdding job"
   ]
  },
  {
   "cell_type": "code",
   "execution_count": 64,
   "id": "36f261d5-468e-476d-88bb-f44db353d3d4",
   "metadata": {},
   "outputs": [],
   "source": [
    "def get_secret():\n",
    "    secret_name = \"openai/api-key/chat-app-keywords\"\n",
    "    region_name = \"eu-central-1\"\n",
    "\n",
    "    # Create a Secrets Manager client\n",
    "    session = boto3.session.Session()\n",
    "    client = session.client(\n",
    "        service_name='secretsmanager',\n",
    "        region_name=region_name\n",
    "    )\n",
    "\n",
    "    try:\n",
    "        get_secret_value_response = client.get_secret_value(\n",
    "            SecretId=secret_name\n",
    "        )\n",
    "    except ClientError as e:\n",
    "        raise e\n",
    "\n",
    "    secret = get_secret_value_response['SecretString']\n",
    "    print(json.loads(secret)[\"OPENAI_KEY\"])\n",
    "    return json.loads(secret)[\"OPENAI_KEY\"]"
   ]
  },
  {
   "cell_type": "code",
   "execution_count": 65,
   "id": "c1f261d6-b555-495b-8483-89626c140880",
   "metadata": {},
   "outputs": [
    {
     "name": "stdout",
     "output_type": "stream",
     "text": [
      "sk-proj-ybXFa9nUWWZy0FvTaqcnT3BlbkFJO5EFVKxJJc07xyc8qyVD\n"
     ]
    }
   ],
   "source": [
    "import openai\n",
    "import boto3\n",
    "import json\n",
    "import os\n",
    "from openai import OpenAI\n",
    "os.environ[\"OPENAI_API_KEY\"] = get_secret()\n",
    "client = OpenAI()"
   ]
  },
  {
   "cell_type": "code",
   "execution_count": 1,
   "id": "e3250016-4f89-4a85-9650-492e65c8499e",
   "metadata": {},
   "outputs": [],
   "source": [
    "import pandas as pd\n"
   ]
  },
  {
   "cell_type": "code",
   "execution_count": 69,
   "id": "4ecce433-518f-4912-ac3d-e0806c10cb51",
   "metadata": {},
   "outputs": [],
   "source": [
    "data = df_no_null.copy()"
   ]
  },
  {
   "cell_type": "code",
   "execution_count": 70,
   "id": "0609311a-6c2b-410e-b8cd-c797c8bdb3db",
   "metadata": {},
   "outputs": [
    {
     "data": {
      "text/plain": [
       "(176489, 12)"
      ]
     },
     "execution_count": 70,
     "metadata": {},
     "output_type": "execute_result"
    }
   ],
   "source": [
    "data.shape"
   ]
  },
  {
   "cell_type": "code",
   "execution_count": 71,
   "id": "e0a00b08-123a-4aea-9b83-620eb39b01b7",
   "metadata": {},
   "outputs": [],
   "source": [
    "import pandas as pd\n",
    "import numpy as np\n",
    "from tenacity import retry, wait_random_exponential, stop_after_attempt\n",
    "from tqdm import tqdm"
   ]
  },
  {
   "cell_type": "code",
   "execution_count": 72,
   "id": "6bf4423c-381e-459a-97b2-8875b6762b34",
   "metadata": {},
   "outputs": [],
   "source": [
    "@retry(wait=wait_random_exponential(min=1, max=20), stop=stop_after_attempt(6))\n",
    "def get_embeddings(texts, model=\"text-embedding-3-small\"):\n",
    "    response = openai.embeddings.create(input=texts, model=model)\n",
    "    return [item.embedding for item in response.data]\n"
   ]
  },
  {
   "cell_type": "code",
   "execution_count": 75,
   "id": "47657ae5-3345-467a-934d-451c82a869dd",
   "metadata": {},
   "outputs": [],
   "source": [
    "# data[\"Relevantes Symptom\"]"
   ]
  },
  {
   "cell_type": "code",
   "execution_count": 76,
   "id": "6bca7ba8-6842-48a9-9f50-cbb4fb5a730f",
   "metadata": {},
   "outputs": [
    {
     "name": "stderr",
     "output_type": "stream",
     "text": [
      "Processing Batches: 100%|███████████████████| 1765/1765 [41:50<00:00,  1.42s/it]\n"
     ]
    }
   ],
   "source": [
    "batch_size = 100  # Adjust based on your rate limit and requirements\n",
    "embeddings = []\n",
    "\n",
    "# Initialize tqdm progress bar\n",
    "for i in tqdm(range(0, len(data), batch_size), desc=\"Processing Batches\"):\n",
    "    batch_texts = data['Relevantes Symptom'].iloc[i:i + batch_size].tolist()\n",
    "    batch_embeddings = get_embeddings(batch_texts)\n",
    "    embeddings.extend(batch_embeddings)\n",
    "\n",
    "data['relevant_symptom_embeddings'] = embeddings\n",
    "\n"
   ]
  },
  {
   "cell_type": "code",
   "execution_count": 83,
   "id": "d5cba0ac-d66f-4263-8945-3ae829f0d183",
   "metadata": {},
   "outputs": [],
   "source": [
    "# df"
   ]
  },
  {
   "cell_type": "code",
   "execution_count": 86,
   "id": "d4d02a5a-5087-456a-884d-66551f3effcc",
   "metadata": {},
   "outputs": [],
   "source": [
    "# data.to_parquet(\"relevant_symptoms.gz\")"
   ]
  },
  {
   "cell_type": "code",
   "execution_count": 89,
   "id": "bd68eb69-8146-4398-a969-c4f2a9aea526",
   "metadata": {},
   "outputs": [],
   "source": [
    "# pd.read_parquet(\"relevant_symptoms.gz\")"
   ]
  },
  {
   "cell_type": "code",
   "execution_count": 93,
   "id": "76efc966-34cf-475e-8666-f3cd94018287",
   "metadata": {},
   "outputs": [],
   "source": [
    "# data.category.unique()"
   ]
  },
  {
   "cell_type": "code",
   "execution_count": 59,
   "id": "ae0f2cab-5c22-469a-8a06-24c957a02070",
   "metadata": {},
   "outputs": [
    {
     "data": {
      "text/plain": [
       "(5000, 1536)"
      ]
     },
     "execution_count": 59,
     "metadata": {},
     "output_type": "execute_result"
    }
   ],
   "source": [
    "np.vstack(data['embeddings'].values).shape"
   ]
  },
  {
   "cell_type": "code",
   "execution_count": 11,
   "id": "5cbc6cd6-9be0-4249-90a4-c13850dbeb5e",
   "metadata": {},
   "outputs": [],
   "source": [
    "def search_top_similar_symptoms(user_query, data, top_n=10):\n",
    "    # Schritt 1: Benutzereingabe entgegennehmen und bereinigen (optional)\n",
    "    # Hier nehmen wir den Text direkt\n",
    "\n",
    "    # Schritt 2: Embedding für die Benutzereingabe generieren\n",
    "    user_embedding = get_embeddings([user_query])[0]  # Annahme: get_embeddings gibt eine Liste von Embeddings zurück\n",
    "\n",
    "    # Schritt 3: Vorbereitung der gespeicherten Embeddings\n",
    "    # Konvertiere die Embeddings-Spalte zu einem 2D-NumPy-Array, falls noch nicht geschehen\n",
    "    # Angenommen, 'embeddings' sind als Listen gespeichert\n",
    "    embeddings_matrix = np.vstack(data['embeddings'].values)\n",
    "\n",
    "    # Schritt 4: Berechnung der Kosinusähnlichkeit ohne Normalisierung\n",
    "    cosine_similarities = np.dot(embeddings_matrix, user_embedding)\n",
    "\n",
    "    # Schritt 5: Sortierung und Auswahl der Top-N ähnlichen Einträge\n",
    "    top_indices = cosine_similarities.argsort()[::-1][:top_n]\n",
    "    top_scores = cosine_similarities[top_indices]\n",
    "    top_symptoms = data.iloc[top_indices].copy()\n",
    "    top_symptoms['similarity'] = top_scores\n",
    "\n",
    "\n",
    "    # Schritt 7: Präsentation der Ergebnisse\n",
    "    return top_symptoms\n"
   ]
  },
  {
   "cell_type": "code",
   "execution_count": 24,
   "id": "9ec69a03-8672-4038-9b4c-0e462ff801c9",
   "metadata": {},
   "outputs": [],
   "source": [
    "# Beispielaufruf:\n",
    "user_input = \"Beten, Nacht\"\n",
    "top_results = search_top_similar_symptoms(user_input, data, top_n=5)"
   ]
  },
  {
   "cell_type": "code",
   "execution_count": 25,
   "id": "8155cf9d-43d3-4643-bbb1-9c940033ac6c",
   "metadata": {},
   "outputs": [
    {
     "data": {
      "text/html": [
       "<div>\n",
       "<style scoped>\n",
       "    .dataframe tbody tr th:only-of-type {\n",
       "        vertical-align: middle;\n",
       "    }\n",
       "\n",
       "    .dataframe tbody tr th {\n",
       "        vertical-align: top;\n",
       "    }\n",
       "\n",
       "    .dataframe thead th {\n",
       "        text-align: right;\n",
       "    }\n",
       "</style>\n",
       "<table border=\"1\" class=\"dataframe\">\n",
       "  <thead>\n",
       "    <tr style=\"text-align: right;\">\n",
       "      <th></th>\n",
       "      <th>symptom_id</th>\n",
       "      <th>origin_text</th>\n",
       "      <th>search_path</th>\n",
       "      <th>relevant_text</th>\n",
       "      <th>embeddings</th>\n",
       "      <th>similarity</th>\n",
       "    </tr>\n",
       "  </thead>\n",
       "  <tbody>\n",
       "    <tr>\n",
       "      <th>1830</th>\n",
       "      <td>9185168</td>\n",
       "      <td>GEMÜT - BETEN - NACHTS</td>\n",
       "      <td>GEMÜT</td>\n",
       "      <td>BETEN - NACHTS</td>\n",
       "      <td>[-0.03742961585521698, 0.01724584586918354, -0...</td>\n",
       "      <td>0.634370</td>\n",
       "    </tr>\n",
       "    <tr>\n",
       "      <th>375</th>\n",
       "      <td>9183713</td>\n",
       "      <td>GEMÜT - ANGST - NACHTS - BETT; IM</td>\n",
       "      <td>GEMÜT</td>\n",
       "      <td>ANGST - NACHTS - BETT; IM</td>\n",
       "      <td>[-0.021743617951869965, 0.012017698958516121, ...</td>\n",
       "      <td>0.580540</td>\n",
       "    </tr>\n",
       "    <tr>\n",
       "      <th>3314</th>\n",
       "      <td>9186653</td>\n",
       "      <td>GEMÜT - ERREGUNG - ABENDS - BETT, IM</td>\n",
       "      <td>GEMÜT</td>\n",
       "      <td>ERREGUNG - ABENDS - BETT, IM</td>\n",
       "      <td>[0.020391957834362984, 0.026025382801890373, -...</td>\n",
       "      <td>0.575588</td>\n",
       "    </tr>\n",
       "    <tr>\n",
       "      <th>1342</th>\n",
       "      <td>9184680</td>\n",
       "      <td>GEMÜT - BEIßEN - NACHTS</td>\n",
       "      <td>GEMÜT</td>\n",
       "      <td>BEIßEN - NACHTS</td>\n",
       "      <td>[-0.030466852709650993, 0.02105293795466423, -...</td>\n",
       "      <td>0.573611</td>\n",
       "    </tr>\n",
       "    <tr>\n",
       "      <th>105</th>\n",
       "      <td>9183443</td>\n",
       "      <td>GEMÜT - ABNEIGUNG - NACHT; GEGEN DIE</td>\n",
       "      <td>GEMÜT</td>\n",
       "      <td>ABNEIGUNG - NACHT; GEGEN DIE</td>\n",
       "      <td>[-0.006598934531211853, 0.05377455800771713, -...</td>\n",
       "      <td>0.551492</td>\n",
       "    </tr>\n",
       "  </tbody>\n",
       "</table>\n",
       "</div>"
      ],
      "text/plain": [
       "      symptom_id                           origin_text search_path  \\\n",
       "1830     9185168                GEMÜT - BETEN - NACHTS      GEMÜT    \n",
       "375      9183713     GEMÜT - ANGST - NACHTS - BETT; IM      GEMÜT    \n",
       "3314     9186653  GEMÜT - ERREGUNG - ABENDS - BETT, IM      GEMÜT    \n",
       "1342     9184680               GEMÜT - BEIßEN - NACHTS      GEMÜT    \n",
       "105      9183443  GEMÜT - ABNEIGUNG - NACHT; GEGEN DIE      GEMÜT    \n",
       "\n",
       "                      relevant_text  \\\n",
       "1830                 BETEN - NACHTS   \n",
       "375       ANGST - NACHTS - BETT; IM   \n",
       "3314   ERREGUNG - ABENDS - BETT, IM   \n",
       "1342                BEIßEN - NACHTS   \n",
       "105    ABNEIGUNG - NACHT; GEGEN DIE   \n",
       "\n",
       "                                             embeddings  similarity  \n",
       "1830  [-0.03742961585521698, 0.01724584586918354, -0...    0.634370  \n",
       "375   [-0.021743617951869965, 0.012017698958516121, ...    0.580540  \n",
       "3314  [0.020391957834362984, 0.026025382801890373, -...    0.575588  \n",
       "1342  [-0.030466852709650993, 0.02105293795466423, -...    0.573611  \n",
       "105   [-0.006598934531211853, 0.05377455800771713, -...    0.551492  "
      ]
     },
     "execution_count": 25,
     "metadata": {},
     "output_type": "execute_result"
    }
   ],
   "source": [
    "top_results"
   ]
  },
  {
   "cell_type": "code",
   "execution_count": null,
   "id": "15d4aa7b-64b0-4ebb-8cee-5b06d6b3e34d",
   "metadata": {},
   "outputs": [],
   "source": []
  },
  {
   "cell_type": "code",
   "execution_count": null,
   "id": "5fd86f5a-1f94-4a34-933f-d5d45cfe3d8f",
   "metadata": {},
   "outputs": [],
   "source": []
  },
  {
   "cell_type": "code",
   "execution_count": 80,
   "id": "a6ba6c15-e90a-4e38-a8f5-0e394f0cd68a",
   "metadata": {},
   "outputs": [],
   "source": [
    "import os\n",
    "from langchain_openai import ChatOpenAI"
   ]
  },
  {
   "cell_type": "code",
   "execution_count": 16,
   "id": "4dd830ca-91e3-4445-8bec-e20e749723a2",
   "metadata": {},
   "outputs": [],
   "source": [
    "system_message = \"Du bist deutscher Homöopath und analysierst die Symptome des Patienten nach dem Buch des Synthesis.\""
   ]
  },
  {
   "cell_type": "code",
   "execution_count": 22,
   "id": "b247d346-64a2-4ce2-81a9-e5a7da8e40e9",
   "metadata": {},
   "outputs": [
    {
     "name": "stdout",
     "output_type": "stream",
     "text": [
      "Erweiterte Anfrage: Beten, Nacht, Schlaf, Schlaflosigkeit, religiöse Gedanken.\n"
     ]
    }
   ],
   "source": [
    "import os\n",
    "from openai import OpenAI\n",
    "\n",
    "# Initialisieren des OpenAI-Clients\n",
    "client = OpenAI(api_key=os.environ.get(\"OPENAI_API_KEY\"))\n",
    "\n",
    "def enrich_query(user_input, sys_mes):\n",
    "    \"\"\"\n",
    "    Verwendet GPT-4o, um die Hauptsymptome aus der Benutzereingabe zu extrahieren und zu erweitern.\n",
    "    \"\"\"\n",
    "    messages = [\n",
    "        {\"role\": \"system\", \"content\": f\"{sys_mes}\"},\n",
    "        {\"role\": \"user\", \"content\": f\"Extrahiere die Symptome des Patienten und paraphrasiere die Symptomatik falls zutreffend nach dem deutschen Synthesis Buch der Homöopathen. Bitte die Schlüssel-Symptome nach Synthesis extrahieren, gerne Komma separiert. Bitte NUR die Symptomatik geben, kurz und präzise.\\n\\nUser Input: {user_input}\\n\\n\"},\n",
    "        {\"role\": \"user\", \"content\": f\"Bitte antworte als würdest du versuchen so präzise wie möglich den Suchpfad im Synthesis zu finden, auf Basis der Symptomatik.\"},\n",
    "    ]\n",
    "    \n",
    "    response = client.chat.completions.create(\n",
    "        model=\"gpt-4o\",\n",
    "        messages=messages,\n",
    "        max_tokens=30,\n",
    "        temperature=0.1\n",
    "    )\n",
    "    \n",
    "    enriched_query = response.choices[0].message.content.strip()\n",
    "    return enriched_query\n",
    "\n",
    "# Beispielhafte Verwendung\n",
    "user_input = \"Der Patient betet in der Nacht\"\n",
    "enriched_query = enrich_query(user_input, system_message)\n",
    "print(\"Erweiterte Anfrage:\", enriched_query)\n"
   ]
  },
  {
   "cell_type": "code",
   "execution_count": null,
   "id": "0bb9711e-b774-4638-8b03-acb423d85d56",
   "metadata": {},
   "outputs": [],
   "source": []
  },
  {
   "cell_type": "code",
   "execution_count": null,
   "id": "53debe63-4c50-4041-8506-bd52d99bd9b8",
   "metadata": {},
   "outputs": [],
   "source": []
  },
  {
   "cell_type": "code",
   "execution_count": null,
   "id": "9b72b08a-dc82-4863-8040-52097668bc37",
   "metadata": {},
   "outputs": [],
   "source": []
  }
 ],
 "metadata": {
  "kernelspec": {
   "display_name": "Python (istari_24)",
   "language": "python",
   "name": "istari_24"
  },
  "language_info": {
   "codemirror_mode": {
    "name": "ipython",
    "version": 3
   },
   "file_extension": ".py",
   "mimetype": "text/x-python",
   "name": "python",
   "nbconvert_exporter": "python",
   "pygments_lexer": "ipython3",
   "version": "3.9.19"
  }
 },
 "nbformat": 4,
 "nbformat_minor": 5
}
